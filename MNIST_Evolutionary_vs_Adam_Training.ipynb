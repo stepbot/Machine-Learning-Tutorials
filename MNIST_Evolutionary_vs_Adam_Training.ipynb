{
  "cells": [
    {
      "cell_type": "markdown",
      "metadata": {
        "id": "view-in-github",
        "colab_type": "text"
      },
      "source": [
        "<a href=\"https://colab.research.google.com/github/stepbot/Machine-Learning-Tutorials/blob/master/MNIST_Evolutionary_vs_Adam_Training.ipynb\" target=\"_parent\"><img src=\"https://colab.research.google.com/assets/colab-badge.svg\" alt=\"Open In Colab\"/></a>"
      ]
    },
    {
      "cell_type": "code",
      "source": [
        "import torch\n",
        "import torch.nn as nn\n",
        "import torchvision\n",
        "import torchvision.transforms as transforms\n",
        "import os\n",
        "from tqdm import tqdm\n",
        "import matplotlib.pyplot as plt\n",
        "import itertools\n",
        "\n",
        "# --- 1. Hyperparameters and Configuration ---\n",
        "DEVICE = torch.device(\"cuda\" if torch.cuda.is_available() else \"cpu\")\n",
        "INPUT_SIZE = 28 * 28  # MNIST image dimensions\n",
        "NUM_CLASSES = 10\n",
        "BATCH_SIZE = 1024 # Increased for faster debugging iterations\n",
        "LEARNING_RATE_ADAM = 0.001\n",
        "EPOCHS = 5 # Number of epochs for both Adam and EA\n",
        "\n",
        "# Evolutionary Algorithm Parameters\n",
        "POPULATION_SIZE = 500 # Number of models in the population\n",
        "BATCHES_PER_GENERATION = 3 # Number of batches to evaluate generation on before evolutionary step\n",
        "MUTATION_RESET_PROB = 0.00001 # Probability for each weight to be reset to a new random value.\n",
        "SELECTION_RATE = 0.2  # Top 20% of models are selected for reproduction\n",
        "ELITISM_RATE = 0.05 # Keep the top 5% of models unchanged in the next generation\n",
        "\n",
        "# --- 2. Model Architecture ---\n",
        "# A simple MLP suitable for MNIST\n",
        "class SimpleNet(nn.Module):\n",
        "    def __init__(self):\n",
        "        super(SimpleNet, self).__init__()\n",
        "        self.fc1 = nn.Linear(INPUT_SIZE, 256)\n",
        "        self.relu1 = nn.ReLU()\n",
        "        self.fc2 = nn.Linear(256, 128)\n",
        "        self.relu2 = nn.ReLU()\n",
        "        self.fc3 = nn.Linear(128, NUM_CLASSES)\n",
        "\n",
        "    def forward(self, x):\n",
        "        x = x.view(-1, INPUT_SIZE) # Flatten the image\n",
        "        out = self.fc1(x)\n",
        "        out = self.relu1(out)\n",
        "        out = self.fc2(out)\n",
        "        out = self.relu2(out)\n",
        "        out = self.fc3(out)\n",
        "        return out\n",
        "\n",
        "# --- 3. Evolutionary Operators ---\n",
        "def crossover(parent1, parent2):\n",
        "    \"\"\"Performs uniform crossover between two parent models.\"\"\"\n",
        "    child = SimpleNet().to(DEVICE)\n",
        "    child_dict = child.state_dict()\n",
        "    parent1_dict = parent1.state_dict()\n",
        "    parent2_dict = parent2.state_dict()\n",
        "\n",
        "    for key in parent1_dict.keys():\n",
        "        # Create a random binary mask\n",
        "        mask = torch.randint(0, 2, size=parent1_dict[key].shape, device=DEVICE).float()\n",
        "        # Combine weights from both parents\n",
        "        child_dict[key] = (parent1_dict[key] * mask) + (parent2_dict[key] * (1 - mask))\n",
        "\n",
        "    child.load_state_dict(child_dict)\n",
        "    return child\n",
        "\n",
        "def mutate(model):\n",
        "    \"\"\"\n",
        "    Performs reset mutation. A small fraction of weights are reset to new\n",
        "    random values drawn from a standard normal distribution.\n",
        "    \"\"\"\n",
        "    with torch.no_grad():\n",
        "        for param in model.parameters():\n",
        "            # Create a boolean mask to select which individual weights to mutate\n",
        "            mask = torch.rand_like(param.data) < MUTATION_RESET_PROB\n",
        "\n",
        "            # Generate new random weights for the selected positions\n",
        "            new_weights = torch.randn_like(param.data)\n",
        "\n",
        "            # Apply the mask: keep old weights where mask is False,\n",
        "            # and use new random weights where mask is True.\n",
        "            param.data[mask] = new_weights[mask]\n",
        "    return model\n",
        "\n",
        "# --- 4. Data Loading ---\n",
        "def get_data_loaders():\n",
        "    \"\"\"Prepares the MNIST train and test data loaders.\"\"\"\n",
        "    transform = transforms.Compose([transforms.ToTensor(), transforms.Normalize((0.5,), (0.5,))])\n",
        "    data_path = './data'\n",
        "    if not os.path.exists(data_path): os.makedirs(data_path)\n",
        "    train_dataset = torchvision.datasets.MNIST(root=data_path, train=True, transform=transform, download=True)\n",
        "    test_dataset = torchvision.datasets.MNIST(root=data_path, train=False, transform=transform, download=True)\n",
        "    train_loader = torch.utils.data.DataLoader(dataset=train_dataset, batch_size=BATCH_SIZE, shuffle=True)\n",
        "    test_loader = torch.utils.data.DataLoader(dataset=test_dataset, batch_size=BATCH_SIZE, shuffle=False)\n",
        "    return train_loader, test_loader\n",
        "\n",
        "# --- 5. Evaluation Function ---\n",
        "def evaluate_model(model, loader):\n",
        "    \"\"\"Calculates the accuracy of a model on a given data loader.\"\"\"\n",
        "    model.eval()\n",
        "    with torch.no_grad():\n",
        "        correct, total = 0, 0\n",
        "        for images, labels in loader:\n",
        "            images, labels = images.to(DEVICE), labels.to(DEVICE)\n",
        "            outputs = model(images)\n",
        "            _, predicted = torch.max(outputs.data, 1)\n",
        "            total += labels.size(0)\n",
        "            correct += (predicted == labels).sum().item()\n",
        "    return 100 * correct / total\n",
        "\n",
        "# --- 6. Plotting Function ---\n",
        "def plot_performance(adam_history, ea_history):\n",
        "    \"\"\"Plots the sample efficiency of Adam vs. EA.\"\"\"\n",
        "    plt.figure(figsize=(12, 7))\n",
        "\n",
        "    if adam_history:\n",
        "        adam_batches, adam_accs = zip(*adam_history)\n",
        "        plt.plot(adam_batches, adam_accs, label='Adam Optimizer', color='blue', marker='o', markersize=4, linestyle='--')\n",
        "\n",
        "    if ea_history:\n",
        "        ea_batches, ea_accs = zip(*ea_history)\n",
        "        plt.plot(ea_batches, ea_accs, label='Evolutionary Algorithm', color='green', marker='x', markersize=4)\n",
        "\n",
        "    plt.title('Sample Efficiency: Adam vs. Evolutionary Algorithm')\n",
        "    plt.xlabel('Number of Batches Processed')\n",
        "    plt.ylabel('Test Accuracy (%)')\n",
        "    plt.grid(True)\n",
        "    plt.legend()\n",
        "    plt.tight_layout()\n",
        "    plt.savefig('performance_comparison.png')\n",
        "    print(\"\\nPerformance plot saved to 'performance_comparison.png'\")\n",
        "    plt.show()\n",
        "\n",
        "# --- 7. Main Execution ---\n",
        "def main():\n",
        "    if not torch.cuda.is_available():\n",
        "        print(\"CUDA not available. This script is designed for GPU acceleration.\")\n",
        "        return\n",
        "\n",
        "    print(f\"Using device: {DEVICE}\")\n",
        "    train_loader, test_loader = get_data_loaders()\n",
        "    loss_fn = nn.CrossEntropyLoss()\n",
        "\n",
        "    total_batches_per_epoch = len(train_loader)\n",
        "    total_batches = total_batches_per_epoch * EPOCHS\n",
        "    NUM_GENERATIONS = total_batches // BATCHES_PER_GENERATION\n",
        "\n",
        "    print(f\"Both algorithms will run for approx {total_batches} batches.\")\n",
        "    print(f\"EA will run for {NUM_GENERATIONS} generations of {BATCHES_PER_GENERATION} batches each.\")\n",
        "\n",
        "    adam_history = []\n",
        "    ea_history = []\n",
        "\n",
        "    # --- Part A: Train a population with an Evolutionary Algorithm ---\n",
        "    print(\"\\n--- Training Population with Evolutionary Algorithm ---\")\n",
        "    population = [SimpleNet().to(DEVICE) for _ in range(POPULATION_SIZE)]\n",
        "    for model in population: model.eval()\n",
        "    streams = [torch.cuda.Stream() for _ in range(POPULATION_SIZE)]\n",
        "\n",
        "    batch_counter_ea = 0\n",
        "    train_iterator = iter(itertools.cycle(train_loader))\n",
        "\n",
        "    for generation in tqdm(range(NUM_GENERATIONS), desc=\"EA Generations\"):\n",
        "            # --- IMPROVEMENT: Aggregate fitness over multiple batches for stability ---\n",
        "            cumulative_fitness_scores = torch.zeros(POPULATION_SIZE, device=DEVICE)\n",
        "\n",
        "            for batch_idx in range(BATCHES_PER_GENERATION):\n",
        "                images, labels = next(train_iterator)\n",
        "                images, labels = images.to(DEVICE), labels.to(DEVICE)\n",
        "\n",
        "                with torch.no_grad():\n",
        "                    for i in range(POPULATION_SIZE):\n",
        "                        with torch.cuda.stream(streams[i]):\n",
        "                            outputs = population[i](images)\n",
        "                            loss = loss_fn(outputs, labels)\n",
        "                            # Accumulate the fitness (negative loss) from each batch\n",
        "                            cumulative_fitness_scores[i] += -loss\n",
        "\n",
        "            torch.cuda.synchronize() # Wait for all streams to finish their batch\n",
        "\n",
        "            batch_counter_ea += BATCHES_PER_GENERATION\n",
        "\n",
        "            # Use the stable, cumulative fitness for selection and diagnostics\n",
        "            fitness_scores = cumulative_fitness_scores\n",
        "\n",
        "            best_fitness = fitness_scores.max().item() / BATCHES_PER_GENERATION # Average per batch\n",
        "            avg_fitness = fitness_scores.mean().item() / BATCHES_PER_GENERATION # Average per batch\n",
        "            print(f\"\\n[Gen {generation+1}/{NUM_GENERATIONS}] Best Fitness: {best_fitness:.4f}, Pop Avg Fitness: {avg_fitness:.4f}\")\n",
        "\n",
        "            # --- Selection ---\n",
        "            sorted_indices = torch.argsort(fitness_scores, descending=True)\n",
        "            num_elites = int(POPULATION_SIZE * SELECTION_RATE)\n",
        "            elite_indices = sorted_indices[:num_elites]\n",
        "\n",
        "            # --- Reproduction with True Elitism ---\n",
        "            num_to_keep = int(POPULATION_SIZE * ELITISM_RATE)\n",
        "\n",
        "            # Start the new population with the best, unchanged models\n",
        "            new_population = [population[i] for i in elite_indices[:num_to_keep]]\n",
        "\n",
        "            # Fill the rest of the population with children from the elite pool\n",
        "            num_children_to_create = POPULATION_SIZE - num_to_keep\n",
        "            with torch.no_grad():\n",
        "                for _ in range(num_children_to_create):\n",
        "                    p1_idx = elite_indices[torch.randint(0, num_elites, (1,)).item()]\n",
        "                    p2_idx = elite_indices[torch.randint(0, num_elites, (1,)).item()]\n",
        "                    parent1 = population[p1_idx]\n",
        "                    parent2 = population[p2_idx]\n",
        "                    child = crossover(parent1, parent2)\n",
        "                    child = mutate(child)\n",
        "                    child.eval()\n",
        "                    new_population.append(child)\n",
        "            population = new_population\n",
        "\n",
        "            # --- Track Performance ---\n",
        "            accuracy = evaluate_model(population[0], test_loader)\n",
        "            ea_history.append((batch_counter_ea, accuracy))\n",
        "            print(f\"    -> Best Model Test Accuracy: {accuracy:.2f}%\")\n",
        "\n",
        "    # --- Part B: Train a model with Adam Optimizer (Baseline) ---\n",
        "    print(\"\\n--- Training Baseline Model with Adam Optimizer ---\")\n",
        "    adam_model = SimpleNet().to(DEVICE)\n",
        "    optimizer = torch.optim.Adam(adam_model.parameters(), lr=LEARNING_RATE_ADAM)\n",
        "    batch_counter = 0\n",
        "\n",
        "    for epoch in range(EPOCHS):\n",
        "        adam_model.train()\n",
        "        for images, labels in tqdm(train_loader, desc=f\"Adam Epoch {epoch+1}/{EPOCHS}\"):\n",
        "            images, labels = images.to(DEVICE), labels.to(DEVICE)\n",
        "            outputs = adam_model(images)\n",
        "            loss = loss_fn(outputs, labels)\n",
        "            optimizer.zero_grad()\n",
        "            loss.backward()\n",
        "            optimizer.step()\n",
        "            batch_counter += 1\n",
        "            if batch_counter % BATCHES_PER_GENERATION == 0 or batch_counter >= total_batches:\n",
        "                accuracy = evaluate_model(adam_model, test_loader)\n",
        "                adam_history.append((batch_counter, accuracy))\n",
        "\n",
        "    # --- Final Comparison ---\n",
        "    print(\"\\n--- Final Results ---\")\n",
        "    adam_accuracy = evaluate_model(adam_model, test_loader) if adam_history else 0\n",
        "    ea_accuracy = evaluate_model(population[0], test_loader) if ea_history else 0\n",
        "    print(f\"Final Adam Model Accuracy: {adam_accuracy:.2f}%\")\n",
        "    print(f\"Final Best EA Model Accuracy: {ea_accuracy:.2f}%\")\n",
        "\n",
        "    # --- Plotting ---\n",
        "    plot_performance(adam_history, ea_history)\n",
        "\n",
        "if __name__ == \"__main__\":\n",
        "    main()\n",
        "\n",
        "\n"
      ],
      "outputs": [
        {
          "output_type": "stream",
          "name": "stdout",
          "text": [
            "Using device: cuda\n",
            "Both algorithms will run for approx 295 batches.\n",
            "EA will run for 98 generations of 3 batches each.\n",
            "\n",
            "--- Training Population with Evolutionary Algorithm ---\n"
          ]
        },
        {
          "output_type": "stream",
          "name": "stderr",
          "text": [
            "\rEA Generations:   0%|          | 0/98 [00:00<?, ?it/s]"
          ]
        },
        {
          "output_type": "stream",
          "name": "stdout",
          "text": [
            "\n",
            "[Gen 1/98] Best Fitness: -2.2882, Pop Avg Fitness: -2.3070\n"
          ]
        },
        {
          "output_type": "stream",
          "name": "stderr",
          "text": [
            "\rEA Generations:   1%|          | 1/98 [00:04<07:32,  4.66s/it]"
          ]
        },
        {
          "output_type": "stream",
          "name": "stdout",
          "text": [
            "    -> Best Model Test Accuracy: 10.41%\n",
            "\n",
            "[Gen 2/98] Best Fitness: -2.2891, Pop Avg Fitness: -2.3053\n"
          ]
        },
        {
          "output_type": "stream",
          "name": "stderr",
          "text": [
            "\rEA Generations:   2%|▏         | 2/98 [00:09<08:00,  5.01s/it]"
          ]
        },
        {
          "output_type": "stream",
          "name": "stdout",
          "text": [
            "    -> Best Model Test Accuracy: 11.85%\n",
            "\n",
            "[Gen 3/98] Best Fitness: -2.2847, Pop Avg Fitness: -2.3054\n"
          ]
        },
        {
          "output_type": "stream",
          "name": "stderr",
          "text": [
            "\rEA Generations:   3%|▎         | 3/98 [00:14<07:52,  4.98s/it]"
          ]
        },
        {
          "output_type": "stream",
          "name": "stdout",
          "text": [
            "    -> Best Model Test Accuracy: 11.85%\n",
            "\n",
            "[Gen 4/98] Best Fitness: -2.2765, Pop Avg Fitness: -2.3042\n"
          ]
        },
        {
          "output_type": "stream",
          "name": "stderr",
          "text": [
            "\rEA Generations:   4%|▍         | 4/98 [00:19<07:43,  4.93s/it]"
          ]
        },
        {
          "output_type": "stream",
          "name": "stdout",
          "text": [
            "    -> Best Model Test Accuracy: 13.73%\n",
            "\n",
            "[Gen 5/98] Best Fitness: -2.2766, Pop Avg Fitness: -2.3039\n"
          ]
        },
        {
          "output_type": "stream",
          "name": "stderr",
          "text": [
            "\rEA Generations:   5%|▌         | 5/98 [00:25<07:54,  5.11s/it]"
          ]
        },
        {
          "output_type": "stream",
          "name": "stdout",
          "text": [
            "    -> Best Model Test Accuracy: 13.73%\n",
            "\n",
            "[Gen 6/98] Best Fitness: -2.2724, Pop Avg Fitness: -2.3025\n"
          ]
        },
        {
          "output_type": "stream",
          "name": "stderr",
          "text": [
            "\rEA Generations:   6%|▌         | 6/98 [00:29<07:33,  4.93s/it]"
          ]
        },
        {
          "output_type": "stream",
          "name": "stdout",
          "text": [
            "    -> Best Model Test Accuracy: 13.73%\n",
            "\n",
            "[Gen 7/98] Best Fitness: -2.2768, Pop Avg Fitness: -2.3020\n"
          ]
        },
        {
          "output_type": "stream",
          "name": "stderr",
          "text": [
            "\rEA Generations:   7%|▋         | 7/98 [00:35<07:50,  5.17s/it]"
          ]
        },
        {
          "output_type": "stream",
          "name": "stdout",
          "text": [
            "    -> Best Model Test Accuracy: 13.73%\n",
            "\n",
            "[Gen 8/98] Best Fitness: -2.2746, Pop Avg Fitness: -2.3011\n"
          ]
        },
        {
          "output_type": "stream",
          "name": "stderr",
          "text": [
            "\rEA Generations:   8%|▊         | 8/98 [00:40<07:31,  5.01s/it]"
          ]
        },
        {
          "output_type": "stream",
          "name": "stdout",
          "text": [
            "    -> Best Model Test Accuracy: 13.73%\n",
            "\n",
            "[Gen 9/98] Best Fitness: -2.2737, Pop Avg Fitness: -2.3021\n"
          ]
        },
        {
          "output_type": "stream",
          "name": "stderr",
          "text": [
            "\rEA Generations:   9%|▉         | 9/98 [00:44<07:16,  4.91s/it]"
          ]
        },
        {
          "output_type": "stream",
          "name": "stdout",
          "text": [
            "    -> Best Model Test Accuracy: 13.73%\n",
            "\n",
            "[Gen 10/98] Best Fitness: -2.2780, Pop Avg Fitness: -2.3039\n"
          ]
        },
        {
          "output_type": "stream",
          "name": "stderr",
          "text": [
            "\rEA Generations:  10%|█         | 10/98 [00:50<07:23,  5.04s/it]"
          ]
        },
        {
          "output_type": "stream",
          "name": "stdout",
          "text": [
            "    -> Best Model Test Accuracy: 13.73%\n",
            "\n",
            "[Gen 11/98] Best Fitness: -2.2741, Pop Avg Fitness: -2.3012\n"
          ]
        },
        {
          "output_type": "stream",
          "name": "stderr",
          "text": [
            "\rEA Generations:  11%|█         | 11/98 [00:54<07:13,  4.99s/it]"
          ]
        },
        {
          "output_type": "stream",
          "name": "stdout",
          "text": [
            "    -> Best Model Test Accuracy: 13.73%\n",
            "\n",
            "[Gen 12/98] Best Fitness: -2.2784, Pop Avg Fitness: -2.3032\n"
          ]
        },
        {
          "output_type": "stream",
          "name": "stderr",
          "text": [
            "\rEA Generations:  12%|█▏        | 12/98 [01:00<07:19,  5.11s/it]"
          ]
        },
        {
          "output_type": "stream",
          "name": "stdout",
          "text": [
            "    -> Best Model Test Accuracy: 17.94%\n",
            "\n",
            "[Gen 13/98] Best Fitness: -2.2767, Pop Avg Fitness: -2.3014\n"
          ]
        },
        {
          "output_type": "stream",
          "name": "stderr",
          "text": [
            "\rEA Generations:  13%|█▎        | 13/98 [01:05<07:03,  4.99s/it]"
          ]
        },
        {
          "output_type": "stream",
          "name": "stdout",
          "text": [
            "    -> Best Model Test Accuracy: 13.73%\n",
            "\n",
            "[Gen 14/98] Best Fitness: -2.2771, Pop Avg Fitness: -2.3010\n"
          ]
        },
        {
          "output_type": "stream",
          "name": "stderr",
          "text": [
            "\rEA Generations:  14%|█▍        | 14/98 [01:10<07:12,  5.15s/it]"
          ]
        },
        {
          "output_type": "stream",
          "name": "stdout",
          "text": [
            "    -> Best Model Test Accuracy: 13.73%\n",
            "\n",
            "[Gen 15/98] Best Fitness: -2.2753, Pop Avg Fitness: -2.2992\n"
          ]
        },
        {
          "output_type": "stream",
          "name": "stderr",
          "text": [
            "\rEA Generations:  15%|█▌        | 15/98 [01:15<07:08,  5.16s/it]"
          ]
        },
        {
          "output_type": "stream",
          "name": "stdout",
          "text": [
            "    -> Best Model Test Accuracy: 13.73%\n",
            "\n",
            "[Gen 16/98] Best Fitness: -2.2746, Pop Avg Fitness: -2.2973\n"
          ]
        },
        {
          "output_type": "stream",
          "name": "stderr",
          "text": [
            "\rEA Generations:  16%|█▋        | 16/98 [01:20<06:53,  5.04s/it]"
          ]
        },
        {
          "output_type": "stream",
          "name": "stdout",
          "text": [
            "    -> Best Model Test Accuracy: 24.61%\n",
            "\n",
            "[Gen 17/98] Best Fitness: -2.2697, Pop Avg Fitness: -2.2934\n"
          ]
        },
        {
          "output_type": "stream",
          "name": "stderr",
          "text": [
            "\rEA Generations:  17%|█▋        | 17/98 [01:26<07:05,  5.26s/it]"
          ]
        },
        {
          "output_type": "stream",
          "name": "stdout",
          "text": [
            "    -> Best Model Test Accuracy: 18.22%\n",
            "\n",
            "[Gen 18/98] Best Fitness: -2.2676, Pop Avg Fitness: -2.2885\n"
          ]
        },
        {
          "output_type": "stream",
          "name": "stderr",
          "text": [
            "\rEA Generations:  18%|█▊        | 18/98 [01:30<06:46,  5.09s/it]"
          ]
        },
        {
          "output_type": "stream",
          "name": "stdout",
          "text": [
            "    -> Best Model Test Accuracy: 22.46%\n",
            "\n",
            "[Gen 19/98] Best Fitness: -2.2640, Pop Avg Fitness: -2.2835\n"
          ]
        },
        {
          "output_type": "stream",
          "name": "stderr",
          "text": [
            "\rEA Generations:  19%|█▉        | 19/98 [01:36<06:55,  5.26s/it]"
          ]
        },
        {
          "output_type": "stream",
          "name": "stdout",
          "text": [
            "    -> Best Model Test Accuracy: 25.68%\n",
            "\n",
            "[Gen 20/98] Best Fitness: -2.2630, Pop Avg Fitness: -2.2770\n"
          ]
        },
        {
          "output_type": "stream",
          "name": "stderr",
          "text": [
            "\rEA Generations:  20%|██        | 20/98 [01:41<06:30,  5.01s/it]"
          ]
        },
        {
          "output_type": "stream",
          "name": "stdout",
          "text": [
            "    -> Best Model Test Accuracy: 10.71%\n",
            "\n",
            "[Gen 21/98] Best Fitness: -2.2566, Pop Avg Fitness: -2.2746\n"
          ]
        },
        {
          "output_type": "stream",
          "name": "stderr",
          "text": [
            "\rEA Generations:  21%|██▏       | 21/98 [01:45<06:05,  4.75s/it]"
          ]
        },
        {
          "output_type": "stream",
          "name": "stdout",
          "text": [
            "    -> Best Model Test Accuracy: 25.36%\n",
            "\n",
            "[Gen 22/98] Best Fitness: -2.2524, Pop Avg Fitness: -2.2716\n"
          ]
        },
        {
          "output_type": "stream",
          "name": "stderr",
          "text": [
            "\rEA Generations:  22%|██▏       | 22/98 [01:50<06:09,  4.87s/it]"
          ]
        },
        {
          "output_type": "stream",
          "name": "stdout",
          "text": [
            "    -> Best Model Test Accuracy: 24.24%\n",
            "\n",
            "[Gen 23/98] Best Fitness: -2.2504, Pop Avg Fitness: -2.2684\n"
          ]
        },
        {
          "output_type": "stream",
          "name": "stderr",
          "text": [
            "\rEA Generations:  23%|██▎       | 23/98 [01:54<05:48,  4.65s/it]"
          ]
        },
        {
          "output_type": "stream",
          "name": "stdout",
          "text": [
            "    -> Best Model Test Accuracy: 30.25%\n",
            "\n",
            "[Gen 24/98] Best Fitness: -2.2488, Pop Avg Fitness: -2.2665\n"
          ]
        },
        {
          "output_type": "stream",
          "name": "stderr",
          "text": [
            "\rEA Generations:  24%|██▍       | 24/98 [01:58<05:35,  4.53s/it]"
          ]
        },
        {
          "output_type": "stream",
          "name": "stdout",
          "text": [
            "    -> Best Model Test Accuracy: 19.94%\n",
            "\n",
            "[Gen 25/98] Best Fitness: -2.2393, Pop Avg Fitness: -2.2606\n"
          ]
        },
        {
          "output_type": "stream",
          "name": "stderr",
          "text": [
            "\rEA Generations:  26%|██▌       | 25/98 [02:03<05:42,  4.70s/it]"
          ]
        },
        {
          "output_type": "stream",
          "name": "stdout",
          "text": [
            "    -> Best Model Test Accuracy: 15.35%\n",
            "\n",
            "[Gen 26/98] Best Fitness: -2.2396, Pop Avg Fitness: -2.2549\n"
          ]
        },
        {
          "output_type": "stream",
          "name": "stderr",
          "text": [
            "\rEA Generations:  27%|██▋       | 26/98 [02:07<05:26,  4.54s/it]"
          ]
        },
        {
          "output_type": "stream",
          "name": "stdout",
          "text": [
            "    -> Best Model Test Accuracy: 25.58%\n",
            "\n",
            "[Gen 27/98] Best Fitness: -2.2249, Pop Avg Fitness: -2.2495\n"
          ]
        },
        {
          "output_type": "stream",
          "name": "stderr",
          "text": [
            "\rEA Generations:  28%|██▊       | 27/98 [02:12<05:28,  4.63s/it]"
          ]
        },
        {
          "output_type": "stream",
          "name": "stdout",
          "text": [
            "    -> Best Model Test Accuracy: 29.27%\n",
            "\n",
            "[Gen 28/98] Best Fitness: -2.2271, Pop Avg Fitness: -2.2472\n"
          ]
        },
        {
          "output_type": "stream",
          "name": "stderr",
          "text": [
            "\rEA Generations:  29%|██▊       | 28/98 [02:17<05:15,  4.50s/it]"
          ]
        },
        {
          "output_type": "stream",
          "name": "stdout",
          "text": [
            "    -> Best Model Test Accuracy: 22.35%\n",
            "\n",
            "[Gen 29/98] Best Fitness: -2.2173, Pop Avg Fitness: -2.2406\n"
          ]
        },
        {
          "output_type": "stream",
          "name": "stderr",
          "text": [
            "\rEA Generations:  30%|██▉       | 29/98 [02:21<05:07,  4.45s/it]"
          ]
        },
        {
          "output_type": "stream",
          "name": "stdout",
          "text": [
            "    -> Best Model Test Accuracy: 31.88%\n",
            "\n",
            "[Gen 30/98] Best Fitness: -2.2168, Pop Avg Fitness: -2.2359\n"
          ]
        },
        {
          "output_type": "stream",
          "name": "stderr",
          "text": [
            "\rEA Generations:  31%|███       | 30/98 [02:26<05:10,  4.57s/it]"
          ]
        },
        {
          "output_type": "stream",
          "name": "stdout",
          "text": [
            "    -> Best Model Test Accuracy: 31.88%\n",
            "\n",
            "[Gen 31/98] Best Fitness: -2.2001, Pop Avg Fitness: -2.2303\n"
          ]
        },
        {
          "output_type": "stream",
          "name": "stderr",
          "text": [
            "\rEA Generations:  32%|███▏      | 31/98 [02:30<04:55,  4.42s/it]"
          ]
        },
        {
          "output_type": "stream",
          "name": "stdout",
          "text": [
            "    -> Best Model Test Accuracy: 26.36%\n",
            "\n",
            "[Gen 32/98] Best Fitness: -2.1924, Pop Avg Fitness: -2.2241\n"
          ]
        },
        {
          "output_type": "stream",
          "name": "stderr",
          "text": [
            "\rEA Generations:  33%|███▎      | 32/98 [02:34<04:50,  4.39s/it]"
          ]
        },
        {
          "output_type": "stream",
          "name": "stdout",
          "text": [
            "    -> Best Model Test Accuracy: 22.14%\n",
            "\n",
            "[Gen 33/98] Best Fitness: -2.1895, Pop Avg Fitness: -2.2192\n"
          ]
        },
        {
          "output_type": "stream",
          "name": "stderr",
          "text": [
            "\rEA Generations:  34%|███▎      | 33/98 [02:39<04:54,  4.54s/it]"
          ]
        },
        {
          "output_type": "stream",
          "name": "stdout",
          "text": [
            "    -> Best Model Test Accuracy: 24.95%\n",
            "\n",
            "[Gen 34/98] Best Fitness: -2.1673, Pop Avg Fitness: -2.2108\n"
          ]
        },
        {
          "output_type": "stream",
          "name": "stderr",
          "text": [
            "\rEA Generations:  35%|███▍      | 34/98 [02:43<04:41,  4.39s/it]"
          ]
        },
        {
          "output_type": "stream",
          "name": "stdout",
          "text": [
            "    -> Best Model Test Accuracy: 32.35%\n",
            "\n",
            "[Gen 35/98] Best Fitness: -2.1649, Pop Avg Fitness: -2.1991\n"
          ]
        },
        {
          "output_type": "stream",
          "name": "stderr",
          "text": [
            "\rEA Generations:  36%|███▌      | 35/98 [02:48<04:39,  4.44s/it]"
          ]
        },
        {
          "output_type": "stream",
          "name": "stdout",
          "text": [
            "    -> Best Model Test Accuracy: 32.35%\n",
            "\n",
            "[Gen 36/98] Best Fitness: -2.1541, Pop Avg Fitness: -2.1868\n"
          ]
        },
        {
          "output_type": "stream",
          "name": "stderr",
          "text": [
            "\rEA Generations:  37%|███▋      | 36/98 [02:52<04:37,  4.47s/it]"
          ]
        },
        {
          "output_type": "stream",
          "name": "stdout",
          "text": [
            "    -> Best Model Test Accuracy: 31.22%\n",
            "\n",
            "[Gen 37/98] Best Fitness: -2.1471, Pop Avg Fitness: -2.1797\n"
          ]
        },
        {
          "output_type": "stream",
          "name": "stderr",
          "text": [
            "\rEA Generations:  38%|███▊      | 37/98 [02:56<04:25,  4.35s/it]"
          ]
        },
        {
          "output_type": "stream",
          "name": "stdout",
          "text": [
            "    -> Best Model Test Accuracy: 22.85%\n",
            "\n",
            "[Gen 38/98] Best Fitness: -2.1362, Pop Avg Fitness: -2.1685\n"
          ]
        },
        {
          "output_type": "stream",
          "name": "stderr",
          "text": [
            "\rEA Generations:  39%|███▉      | 38/98 [03:01<04:32,  4.55s/it]"
          ]
        },
        {
          "output_type": "stream",
          "name": "stdout",
          "text": [
            "    -> Best Model Test Accuracy: 23.29%\n",
            "\n",
            "[Gen 39/98] Best Fitness: -2.1250, Pop Avg Fitness: -2.1709\n"
          ]
        },
        {
          "output_type": "stream",
          "name": "stderr",
          "text": [
            "\rEA Generations:  40%|███▉      | 39/98 [03:05<04:19,  4.40s/it]"
          ]
        },
        {
          "output_type": "stream",
          "name": "stdout",
          "text": [
            "    -> Best Model Test Accuracy: 33.21%\n",
            "\n",
            "[Gen 40/98] Best Fitness: -2.1173, Pop Avg Fitness: -2.1454\n"
          ]
        },
        {
          "output_type": "stream",
          "name": "stderr",
          "text": [
            "\rEA Generations:  41%|████      | 40/98 [03:09<04:09,  4.31s/it]"
          ]
        },
        {
          "output_type": "stream",
          "name": "stdout",
          "text": [
            "    -> Best Model Test Accuracy: 33.21%\n",
            "\n",
            "[Gen 41/98] Best Fitness: -2.1189, Pop Avg Fitness: -2.1460\n"
          ]
        },
        {
          "output_type": "stream",
          "name": "stderr",
          "text": [
            "\rEA Generations:  42%|████▏     | 41/98 [03:14<04:13,  4.45s/it]"
          ]
        },
        {
          "output_type": "stream",
          "name": "stdout",
          "text": [
            "    -> Best Model Test Accuracy: 38.08%\n",
            "\n",
            "[Gen 42/98] Best Fitness: -2.1092, Pop Avg Fitness: -2.1330\n"
          ]
        },
        {
          "output_type": "stream",
          "name": "stderr",
          "text": [
            "\rEA Generations:  43%|████▎     | 42/98 [03:18<04:06,  4.41s/it]"
          ]
        },
        {
          "output_type": "stream",
          "name": "stdout",
          "text": [
            "    -> Best Model Test Accuracy: 28.33%\n",
            "\n",
            "[Gen 43/98] Best Fitness: -2.0944, Pop Avg Fitness: -2.1277\n"
          ]
        },
        {
          "output_type": "stream",
          "name": "stderr",
          "text": [
            "\rEA Generations:  44%|████▍     | 43/98 [03:23<03:57,  4.31s/it]"
          ]
        },
        {
          "output_type": "stream",
          "name": "stdout",
          "text": [
            "    -> Best Model Test Accuracy: 27.23%\n",
            "\n",
            "[Gen 44/98] Best Fitness: -2.0768, Pop Avg Fitness: -2.1170\n"
          ]
        },
        {
          "output_type": "stream",
          "name": "stderr",
          "text": [
            "\rEA Generations:  45%|████▍     | 44/98 [03:28<04:06,  4.56s/it]"
          ]
        },
        {
          "output_type": "stream",
          "name": "stdout",
          "text": [
            "    -> Best Model Test Accuracy: 35.24%\n",
            "\n",
            "[Gen 45/98] Best Fitness: -2.0563, Pop Avg Fitness: -2.1001\n"
          ]
        },
        {
          "output_type": "stream",
          "name": "stderr",
          "text": [
            "\rEA Generations:  46%|████▌     | 45/98 [03:32<03:53,  4.41s/it]"
          ]
        },
        {
          "output_type": "stream",
          "name": "stdout",
          "text": [
            "    -> Best Model Test Accuracy: 34.99%\n",
            "\n",
            "[Gen 46/98] Best Fitness: -2.0665, Pop Avg Fitness: -2.0998\n"
          ]
        },
        {
          "output_type": "stream",
          "name": "stderr",
          "text": [
            "\rEA Generations:  47%|████▋     | 46/98 [03:36<03:47,  4.38s/it]"
          ]
        },
        {
          "output_type": "stream",
          "name": "stdout",
          "text": [
            "    -> Best Model Test Accuracy: 34.99%\n",
            "\n",
            "[Gen 47/98] Best Fitness: -2.0385, Pop Avg Fitness: -2.0723\n"
          ]
        },
        {
          "output_type": "stream",
          "name": "stderr",
          "text": [
            "\rEA Generations:  48%|████▊     | 47/98 [03:41<03:49,  4.51s/it]"
          ]
        },
        {
          "output_type": "stream",
          "name": "stdout",
          "text": [
            "    -> Best Model Test Accuracy: 34.91%\n",
            "\n",
            "[Gen 48/98] Best Fitness: -2.0381, Pop Avg Fitness: -2.0789\n"
          ]
        },
        {
          "output_type": "stream",
          "name": "stderr",
          "text": [
            "\rEA Generations:  49%|████▉     | 48/98 [03:45<03:39,  4.39s/it]"
          ]
        },
        {
          "output_type": "stream",
          "name": "stdout",
          "text": [
            "    -> Best Model Test Accuracy: 33.63%\n",
            "\n",
            "[Gen 49/98] Best Fitness: -2.0245, Pop Avg Fitness: -2.0627\n"
          ]
        },
        {
          "output_type": "stream",
          "name": "stderr",
          "text": [
            "\rEA Generations:  50%|█████     | 49/98 [03:50<03:40,  4.50s/it]"
          ]
        },
        {
          "output_type": "stream",
          "name": "stdout",
          "text": [
            "    -> Best Model Test Accuracy: 42.47%\n",
            "\n",
            "[Gen 50/98] Best Fitness: -2.0149, Pop Avg Fitness: -2.0587\n"
          ]
        },
        {
          "output_type": "stream",
          "name": "stderr",
          "text": [
            "\rEA Generations:  51%|█████     | 50/98 [03:54<03:30,  4.38s/it]"
          ]
        },
        {
          "output_type": "stream",
          "name": "stdout",
          "text": [
            "    -> Best Model Test Accuracy: 36.66%\n",
            "\n",
            "[Gen 51/98] Best Fitness: -1.9794, Pop Avg Fitness: -2.0371\n"
          ]
        },
        {
          "output_type": "stream",
          "name": "stderr",
          "text": [
            "\rEA Generations:  52%|█████▏    | 51/98 [03:58<03:25,  4.36s/it]"
          ]
        },
        {
          "output_type": "stream",
          "name": "stdout",
          "text": [
            "    -> Best Model Test Accuracy: 32.02%\n",
            "\n",
            "[Gen 52/98] Best Fitness: -1.9800, Pop Avg Fitness: -2.0335\n"
          ]
        },
        {
          "output_type": "stream",
          "name": "stderr",
          "text": [
            "\rEA Generations:  53%|█████▎    | 52/98 [04:03<03:27,  4.50s/it]"
          ]
        },
        {
          "output_type": "stream",
          "name": "stdout",
          "text": [
            "    -> Best Model Test Accuracy: 37.43%\n",
            "\n",
            "[Gen 53/98] Best Fitness: -1.9729, Pop Avg Fitness: -2.0245\n"
          ]
        },
        {
          "output_type": "stream",
          "name": "stderr",
          "text": [
            "\rEA Generations:  54%|█████▍    | 53/98 [04:07<03:17,  4.40s/it]"
          ]
        },
        {
          "output_type": "stream",
          "name": "stdout",
          "text": [
            "    -> Best Model Test Accuracy: 36.12%\n",
            "\n",
            "[Gen 54/98] Best Fitness: -1.9206, Pop Avg Fitness: -2.0115\n"
          ]
        },
        {
          "output_type": "stream",
          "name": "stderr",
          "text": [
            "\rEA Generations:  55%|█████▌    | 54/98 [04:11<03:12,  4.37s/it]"
          ]
        },
        {
          "output_type": "stream",
          "name": "stdout",
          "text": [
            "    -> Best Model Test Accuracy: 39.22%\n",
            "\n",
            "[Gen 55/98] Best Fitness: -1.9247, Pop Avg Fitness: -1.9893\n"
          ]
        },
        {
          "output_type": "stream",
          "name": "stderr",
          "text": [
            "\rEA Generations:  56%|█████▌    | 55/98 [04:16<03:14,  4.52s/it]"
          ]
        },
        {
          "output_type": "stream",
          "name": "stdout",
          "text": [
            "    -> Best Model Test Accuracy: 41.40%\n",
            "\n",
            "[Gen 56/98] Best Fitness: -1.8812, Pop Avg Fitness: -1.9693\n"
          ]
        },
        {
          "output_type": "stream",
          "name": "stderr",
          "text": [
            "\rEA Generations:  57%|█████▋    | 56/98 [04:20<03:04,  4.38s/it]"
          ]
        },
        {
          "output_type": "stream",
          "name": "stdout",
          "text": [
            "    -> Best Model Test Accuracy: 45.98%\n",
            "\n",
            "[Gen 57/98] Best Fitness: -1.8936, Pop Avg Fitness: -1.9572\n"
          ]
        },
        {
          "output_type": "stream",
          "name": "stderr",
          "text": [
            "\rEA Generations:  58%|█████▊    | 57/98 [04:25<03:03,  4.46s/it]"
          ]
        },
        {
          "output_type": "stream",
          "name": "stdout",
          "text": [
            "    -> Best Model Test Accuracy: 45.98%\n",
            "\n",
            "[Gen 58/98] Best Fitness: -1.8691, Pop Avg Fitness: -1.9242\n"
          ]
        },
        {
          "output_type": "stream",
          "name": "stderr",
          "text": [
            "\rEA Generations:  59%|█████▉    | 58/98 [04:30<02:59,  4.48s/it]"
          ]
        },
        {
          "output_type": "stream",
          "name": "stdout",
          "text": [
            "    -> Best Model Test Accuracy: 39.84%\n",
            "\n",
            "[Gen 59/98] Best Fitness: -1.8711, Pop Avg Fitness: -1.9211\n"
          ]
        },
        {
          "output_type": "stream",
          "name": "stderr",
          "text": [
            "\rEA Generations:  60%|██████    | 59/98 [04:34<02:51,  4.39s/it]"
          ]
        },
        {
          "output_type": "stream",
          "name": "stdout",
          "text": [
            "    -> Best Model Test Accuracy: 44.56%\n",
            "\n",
            "[Gen 60/98] Best Fitness: -1.8410, Pop Avg Fitness: -1.8939\n"
          ]
        },
        {
          "output_type": "stream",
          "name": "stderr",
          "text": [
            "\rEA Generations:  61%|██████    | 60/98 [04:39<02:54,  4.59s/it]"
          ]
        },
        {
          "output_type": "stream",
          "name": "stdout",
          "text": [
            "    -> Best Model Test Accuracy: 41.58%\n",
            "\n",
            "[Gen 61/98] Best Fitness: -1.8059, Pop Avg Fitness: -1.8764\n"
          ]
        },
        {
          "output_type": "stream",
          "name": "stderr",
          "text": [
            "\rEA Generations:  62%|██████▏   | 61/98 [04:43<02:45,  4.46s/it]"
          ]
        },
        {
          "output_type": "stream",
          "name": "stdout",
          "text": [
            "    -> Best Model Test Accuracy: 47.60%\n",
            "\n",
            "[Gen 62/98] Best Fitness: -1.8060, Pop Avg Fitness: -1.8581\n"
          ]
        },
        {
          "output_type": "stream",
          "name": "stderr",
          "text": [
            "\rEA Generations:  63%|██████▎   | 62/98 [04:47<02:37,  4.38s/it]"
          ]
        },
        {
          "output_type": "stream",
          "name": "stdout",
          "text": [
            "    -> Best Model Test Accuracy: 39.55%\n",
            "\n",
            "[Gen 63/98] Best Fitness: -1.8009, Pop Avg Fitness: -1.8436\n"
          ]
        },
        {
          "output_type": "stream",
          "name": "stderr",
          "text": [
            "\rEA Generations:  64%|██████▍   | 63/98 [04:52<02:38,  4.53s/it]"
          ]
        },
        {
          "output_type": "stream",
          "name": "stdout",
          "text": [
            "    -> Best Model Test Accuracy: 40.76%\n",
            "\n",
            "[Gen 64/98] Best Fitness: -1.7584, Pop Avg Fitness: -1.8165\n"
          ]
        },
        {
          "output_type": "stream",
          "name": "stderr",
          "text": [
            "\rEA Generations:  65%|██████▌   | 64/98 [04:56<02:31,  4.46s/it]"
          ]
        },
        {
          "output_type": "stream",
          "name": "stdout",
          "text": [
            "    -> Best Model Test Accuracy: 43.08%\n",
            "\n",
            "[Gen 65/98] Best Fitness: -1.7635, Pop Avg Fitness: -1.8035\n"
          ]
        },
        {
          "output_type": "stream",
          "name": "stderr",
          "text": [
            "\rEA Generations:  66%|██████▋   | 65/98 [05:00<02:23,  4.36s/it]"
          ]
        },
        {
          "output_type": "stream",
          "name": "stdout",
          "text": [
            "    -> Best Model Test Accuracy: 42.16%\n",
            "\n",
            "[Gen 66/98] Best Fitness: -1.7352, Pop Avg Fitness: -1.7903\n"
          ]
        },
        {
          "output_type": "stream",
          "name": "stderr",
          "text": [
            "\rEA Generations:  67%|██████▋   | 66/98 [05:06<02:27,  4.60s/it]"
          ]
        },
        {
          "output_type": "stream",
          "name": "stdout",
          "text": [
            "    -> Best Model Test Accuracy: 48.63%\n",
            "\n",
            "[Gen 67/98] Best Fitness: -1.7151, Pop Avg Fitness: -1.7677\n"
          ]
        },
        {
          "output_type": "stream",
          "name": "stderr",
          "text": [
            "\rEA Generations:  68%|██████▊   | 67/98 [05:10<02:18,  4.45s/it]"
          ]
        },
        {
          "output_type": "stream",
          "name": "stdout",
          "text": [
            "    -> Best Model Test Accuracy: 50.36%\n",
            "\n",
            "[Gen 68/98] Best Fitness: -1.6869, Pop Avg Fitness: -1.7435\n"
          ]
        },
        {
          "output_type": "stream",
          "name": "stderr",
          "text": [
            "\rEA Generations:  69%|██████▉   | 68/98 [05:14<02:13,  4.46s/it]"
          ]
        },
        {
          "output_type": "stream",
          "name": "stdout",
          "text": [
            "    -> Best Model Test Accuracy: 49.06%\n",
            "\n",
            "[Gen 69/98] Best Fitness: -1.6980, Pop Avg Fitness: -1.7551\n"
          ]
        },
        {
          "output_type": "stream",
          "name": "stderr",
          "text": [
            "\rEA Generations:  70%|███████   | 69/98 [05:19<02:11,  4.52s/it]"
          ]
        },
        {
          "output_type": "stream",
          "name": "stdout",
          "text": [
            "    -> Best Model Test Accuracy: 49.50%\n",
            "\n",
            "[Gen 70/98] Best Fitness: -1.6789, Pop Avg Fitness: -1.7233\n"
          ]
        },
        {
          "output_type": "stream",
          "name": "stderr",
          "text": [
            "\rEA Generations:  71%|███████▏  | 70/98 [05:23<02:03,  4.40s/it]"
          ]
        },
        {
          "output_type": "stream",
          "name": "stdout",
          "text": [
            "    -> Best Model Test Accuracy: 49.78%\n",
            "\n",
            "[Gen 71/98] Best Fitness: -1.6869, Pop Avg Fitness: -1.7367\n"
          ]
        },
        {
          "output_type": "stream",
          "name": "stderr",
          "text": [
            "\rEA Generations:  72%|███████▏  | 71/98 [05:28<02:01,  4.51s/it]"
          ]
        },
        {
          "output_type": "stream",
          "name": "stdout",
          "text": [
            "    -> Best Model Test Accuracy: 49.19%\n",
            "\n",
            "[Gen 72/98] Best Fitness: -1.6406, Pop Avg Fitness: -1.6963\n"
          ]
        },
        {
          "output_type": "stream",
          "name": "stderr",
          "text": [
            "\rEA Generations:  73%|███████▎  | 72/98 [05:32<01:53,  4.38s/it]"
          ]
        },
        {
          "output_type": "stream",
          "name": "stdout",
          "text": [
            "    -> Best Model Test Accuracy: 52.44%\n",
            "\n",
            "[Gen 73/98] Best Fitness: -1.6397, Pop Avg Fitness: -1.6920\n"
          ]
        },
        {
          "output_type": "stream",
          "name": "stderr",
          "text": [
            "\rEA Generations:  74%|███████▍  | 73/98 [05:36<01:49,  4.40s/it]"
          ]
        },
        {
          "output_type": "stream",
          "name": "stdout",
          "text": [
            "    -> Best Model Test Accuracy: 49.57%\n",
            "\n",
            "[Gen 74/98] Best Fitness: -1.6191, Pop Avg Fitness: -1.6638\n"
          ]
        },
        {
          "output_type": "stream",
          "name": "stderr",
          "text": [
            "\rEA Generations:  76%|███████▌  | 74/98 [05:41<01:49,  4.55s/it]"
          ]
        },
        {
          "output_type": "stream",
          "name": "stdout",
          "text": [
            "    -> Best Model Test Accuracy: 50.43%\n",
            "\n",
            "[Gen 75/98] Best Fitness: -1.6108, Pop Avg Fitness: -1.6611\n"
          ]
        },
        {
          "output_type": "stream",
          "name": "stderr",
          "text": [
            "\rEA Generations:  77%|███████▋  | 75/98 [05:45<01:41,  4.43s/it]"
          ]
        },
        {
          "output_type": "stream",
          "name": "stdout",
          "text": [
            "    -> Best Model Test Accuracy: 52.07%\n",
            "\n",
            "[Gen 76/98] Best Fitness: -1.6149, Pop Avg Fitness: -1.6619\n"
          ]
        },
        {
          "output_type": "stream",
          "name": "stderr",
          "text": [
            "\rEA Generations:  78%|███████▊  | 76/98 [05:50<01:37,  4.45s/it]"
          ]
        },
        {
          "output_type": "stream",
          "name": "stdout",
          "text": [
            "    -> Best Model Test Accuracy: 56.17%\n",
            "\n",
            "[Gen 77/98] Best Fitness: -1.6092, Pop Avg Fitness: -1.6432\n"
          ]
        },
        {
          "output_type": "stream",
          "name": "stderr",
          "text": [
            "\rEA Generations:  79%|███████▊  | 77/98 [05:54<01:34,  4.49s/it]"
          ]
        },
        {
          "output_type": "stream",
          "name": "stdout",
          "text": [
            "    -> Best Model Test Accuracy: 51.62%\n",
            "\n",
            "[Gen 78/98] Best Fitness: -1.5868, Pop Avg Fitness: -1.6356\n"
          ]
        },
        {
          "output_type": "stream",
          "name": "stderr",
          "text": [
            "\rEA Generations:  80%|███████▉  | 78/98 [05:58<01:27,  4.37s/it]"
          ]
        },
        {
          "output_type": "stream",
          "name": "stdout",
          "text": [
            "    -> Best Model Test Accuracy: 55.50%\n",
            "\n",
            "[Gen 79/98] Best Fitness: -1.5907, Pop Avg Fitness: -1.6402\n"
          ]
        },
        {
          "output_type": "stream",
          "name": "stderr",
          "text": [
            "\rEA Generations:  81%|████████  | 79/98 [06:03<01:26,  4.55s/it]"
          ]
        },
        {
          "output_type": "stream",
          "name": "stdout",
          "text": [
            "    -> Best Model Test Accuracy: 56.60%\n",
            "\n",
            "[Gen 80/98] Best Fitness: -1.5624, Pop Avg Fitness: -1.6015\n"
          ]
        },
        {
          "output_type": "stream",
          "name": "stderr",
          "text": [
            "\rEA Generations:  82%|████████▏ | 80/98 [06:08<01:20,  4.47s/it]"
          ]
        },
        {
          "output_type": "stream",
          "name": "stdout",
          "text": [
            "    -> Best Model Test Accuracy: 56.78%\n",
            "\n",
            "[Gen 81/98] Best Fitness: -1.5446, Pop Avg Fitness: -1.5922\n"
          ]
        },
        {
          "output_type": "stream",
          "name": "stderr",
          "text": [
            "\rEA Generations:  83%|████████▎ | 81/98 [06:12<01:14,  4.37s/it]"
          ]
        },
        {
          "output_type": "stream",
          "name": "stdout",
          "text": [
            "    -> Best Model Test Accuracy: 56.97%\n",
            "\n",
            "[Gen 82/98] Best Fitness: -1.5382, Pop Avg Fitness: -1.5784\n"
          ]
        },
        {
          "output_type": "stream",
          "name": "stderr",
          "text": [
            "\rEA Generations:  84%|████████▎ | 82/98 [06:17<01:13,  4.57s/it]"
          ]
        },
        {
          "output_type": "stream",
          "name": "stdout",
          "text": [
            "    -> Best Model Test Accuracy: 56.97%\n",
            "\n",
            "[Gen 83/98] Best Fitness: -1.5310, Pop Avg Fitness: -1.5718\n"
          ]
        },
        {
          "output_type": "stream",
          "name": "stderr",
          "text": [
            "\rEA Generations:  85%|████████▍ | 83/98 [06:21<01:06,  4.42s/it]"
          ]
        },
        {
          "output_type": "stream",
          "name": "stdout",
          "text": [
            "    -> Best Model Test Accuracy: 53.19%\n",
            "\n",
            "[Gen 84/98] Best Fitness: -1.5178, Pop Avg Fitness: -1.5556\n"
          ]
        },
        {
          "output_type": "stream",
          "name": "stderr",
          "text": [
            "\rEA Generations:  86%|████████▌ | 84/98 [06:25<01:00,  4.32s/it]"
          ]
        },
        {
          "output_type": "stream",
          "name": "stdout",
          "text": [
            "    -> Best Model Test Accuracy: 56.67%\n",
            "\n",
            "[Gen 85/98] Best Fitness: -1.5000, Pop Avg Fitness: -1.5426\n"
          ]
        },
        {
          "output_type": "stream",
          "name": "stderr",
          "text": [
            "\rEA Generations:  87%|████████▋ | 85/98 [06:30<00:58,  4.48s/it]"
          ]
        },
        {
          "output_type": "stream",
          "name": "stdout",
          "text": [
            "    -> Best Model Test Accuracy: 57.87%\n",
            "\n",
            "[Gen 86/98] Best Fitness: -1.4661, Pop Avg Fitness: -1.5139\n"
          ]
        },
        {
          "output_type": "stream",
          "name": "stderr",
          "text": [
            "\rEA Generations:  88%|████████▊ | 86/98 [06:34<00:53,  4.42s/it]"
          ]
        },
        {
          "output_type": "stream",
          "name": "stdout",
          "text": [
            "    -> Best Model Test Accuracy: 58.75%\n",
            "\n",
            "[Gen 87/98] Best Fitness: -1.4799, Pop Avg Fitness: -1.5356\n"
          ]
        },
        {
          "output_type": "stream",
          "name": "stderr",
          "text": [
            "\rEA Generations:  89%|████████▉ | 87/98 [06:39<00:48,  4.41s/it]"
          ]
        },
        {
          "output_type": "stream",
          "name": "stdout",
          "text": [
            "    -> Best Model Test Accuracy: 58.94%\n",
            "\n",
            "[Gen 88/98] Best Fitness: -1.4430, Pop Avg Fitness: -1.4835\n"
          ]
        },
        {
          "output_type": "stream",
          "name": "stderr",
          "text": [
            "\rEA Generations:  90%|████████▉ | 88/98 [06:43<00:45,  4.52s/it]"
          ]
        },
        {
          "output_type": "stream",
          "name": "stdout",
          "text": [
            "    -> Best Model Test Accuracy: 58.94%\n",
            "\n",
            "[Gen 89/98] Best Fitness: -1.4568, Pop Avg Fitness: -1.5003\n"
          ]
        },
        {
          "output_type": "stream",
          "name": "stderr",
          "text": [
            "\rEA Generations:  91%|█████████ | 89/98 [06:47<00:39,  4.39s/it]"
          ]
        },
        {
          "output_type": "stream",
          "name": "stdout",
          "text": [
            "    -> Best Model Test Accuracy: 59.86%\n",
            "\n",
            "[Gen 90/98] Best Fitness: -1.4416, Pop Avg Fitness: -1.4828\n"
          ]
        },
        {
          "output_type": "stream",
          "name": "stderr",
          "text": [
            "\rEA Generations:  92%|█████████▏| 90/98 [06:52<00:36,  4.51s/it]"
          ]
        },
        {
          "output_type": "stream",
          "name": "stdout",
          "text": [
            "    -> Best Model Test Accuracy: 60.92%\n",
            "\n",
            "[Gen 91/98] Best Fitness: -1.4450, Pop Avg Fitness: -1.4823\n"
          ]
        },
        {
          "output_type": "stream",
          "name": "stderr",
          "text": [
            "\rEA Generations:  93%|█████████▎| 91/98 [06:56<00:31,  4.44s/it]"
          ]
        },
        {
          "output_type": "stream",
          "name": "stdout",
          "text": [
            "    -> Best Model Test Accuracy: 59.00%\n",
            "\n",
            "[Gen 92/98] Best Fitness: -1.4072, Pop Avg Fitness: -1.4450\n"
          ]
        },
        {
          "output_type": "stream",
          "name": "stderr",
          "text": [
            "\rEA Generations:  94%|█████████▍| 92/98 [07:01<00:26,  4.36s/it]"
          ]
        },
        {
          "output_type": "stream",
          "name": "stdout",
          "text": [
            "    -> Best Model Test Accuracy: 60.03%\n",
            "\n",
            "[Gen 93/98] Best Fitness: -1.4114, Pop Avg Fitness: -1.4548\n"
          ]
        },
        {
          "output_type": "stream",
          "name": "stderr",
          "text": [
            "\rEA Generations:  95%|█████████▍| 93/98 [07:06<00:22,  4.53s/it]"
          ]
        },
        {
          "output_type": "stream",
          "name": "stdout",
          "text": [
            "    -> Best Model Test Accuracy: 61.85%\n",
            "\n",
            "[Gen 94/98] Best Fitness: -1.3933, Pop Avg Fitness: -1.4287\n"
          ]
        },
        {
          "output_type": "stream",
          "name": "stderr",
          "text": [
            "\rEA Generations:  96%|█████████▌| 94/98 [07:10<00:17,  4.40s/it]"
          ]
        },
        {
          "output_type": "stream",
          "name": "stdout",
          "text": [
            "    -> Best Model Test Accuracy: 61.72%\n",
            "\n",
            "[Gen 95/98] Best Fitness: -1.3886, Pop Avg Fitness: -1.4261\n"
          ]
        },
        {
          "output_type": "stream",
          "name": "stderr",
          "text": [
            "\rEA Generations:  97%|█████████▋| 95/98 [07:14<00:13,  4.39s/it]"
          ]
        },
        {
          "output_type": "stream",
          "name": "stdout",
          "text": [
            "    -> Best Model Test Accuracy: 63.41%\n",
            "\n",
            "[Gen 96/98] Best Fitness: -1.3887, Pop Avg Fitness: -1.4313\n"
          ]
        },
        {
          "output_type": "stream",
          "name": "stderr",
          "text": [
            "\rEA Generations:  98%|█████████▊| 96/98 [07:19<00:09,  4.53s/it]"
          ]
        },
        {
          "output_type": "stream",
          "name": "stdout",
          "text": [
            "    -> Best Model Test Accuracy: 60.30%\n",
            "\n",
            "[Gen 97/98] Best Fitness: -1.3600, Pop Avg Fitness: -1.4109\n"
          ]
        },
        {
          "output_type": "stream",
          "name": "stderr",
          "text": [
            "\rEA Generations:  99%|█████████▉| 97/98 [07:23<00:04,  4.40s/it]"
          ]
        },
        {
          "output_type": "stream",
          "name": "stdout",
          "text": [
            "    -> Best Model Test Accuracy: 64.12%\n",
            "\n",
            "[Gen 98/98] Best Fitness: -1.3686, Pop Avg Fitness: -1.4152\n"
          ]
        },
        {
          "output_type": "stream",
          "name": "stderr",
          "text": [
            "EA Generations: 100%|██████████| 98/98 [07:28<00:00,  4.57s/it]\n"
          ]
        },
        {
          "output_type": "stream",
          "name": "stdout",
          "text": [
            "    -> Best Model Test Accuracy: 63.60%\n",
            "\n",
            "--- Training Baseline Model with Adam Optimizer ---\n"
          ]
        },
        {
          "output_type": "stream",
          "name": "stderr",
          "text": [
            "Adam Epoch 1/5: 100%|██████████| 59/59 [00:48<00:00,  1.22it/s]\n",
            "Adam Epoch 2/5: 100%|██████████| 59/59 [00:50<00:00,  1.17it/s]\n",
            "Adam Epoch 3/5: 100%|██████████| 59/59 [00:49<00:00,  1.19it/s]\n",
            "Adam Epoch 4/5: 100%|██████████| 59/59 [00:48<00:00,  1.21it/s]\n",
            "Adam Epoch 5/5: 100%|██████████| 59/59 [00:52<00:00,  1.13it/s]\n"
          ]
        },
        {
          "output_type": "stream",
          "name": "stdout",
          "text": [
            "\n",
            "--- Final Results ---\n",
            "Final Adam Model Accuracy: 94.70%\n",
            "Final Best EA Model Accuracy: 63.60%\n",
            "\n",
            "Performance plot saved to 'performance_comparison.png'\n"
          ]
        },
        {
          "output_type": "display_data",
          "data": {
            "text/plain": [
              "<Figure size 1200x700 with 1 Axes>"
            ],
            "image/png": "[encoded data removed]"
          },
          "metadata": {}
        }
      ],
      "execution_count": 4,
      "metadata": {
        "colab": {
          "base_uri": "https://localhost:8080/",
          "height": 1000
        },
        "id": "yw4r6x2aSNdb",
        "outputId": "d2369ef6-f041-4066-f968-b30d9d80180a"
      }
    }
  ],
  "metadata": {
    "colab": {
      "provenance": [],
      "gpuType": "T4",
      "include_colab_link": true
    },
    "kernelspec": {
      "display_name": "Python 3",
      "name": "python3"
    },
    "accelerator": "GPU"
  },
  "nbformat": 4,
  "nbformat_minor": 0
}